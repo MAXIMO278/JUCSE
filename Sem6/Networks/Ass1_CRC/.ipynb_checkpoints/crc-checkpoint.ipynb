{
 "cells": [
  {
   "cell_type": "markdown",
   "metadata": {},
   "source": [
    "# Cyclic redundancy check"
   ]
  },
  {
   "cell_type": "markdown",
   "metadata": {},
   "source": [
    "## Some helper functions\n",
    "\n",
    "- **byte_array** : takes a string and returns a list of bytes for the ASCII of each char\n",
    "- **padding**    : Stuff the text with trailing whitespace to make len of text a multiple of _frame_size_\n",
    "- **bin_str**    : Prints the binary repr of a byte"
   ]
  },
  {
   "cell_type": "code",
   "execution_count": 2,
   "metadata": {
    "collapsed": true
   },
   "outputs": [],
   "source": [
    "def byte_array(text):\n",
    "    return [int(format(ord(x), 'b'), 2) for x in text]\n",
    "\n",
    "def padding(text, frame_size=3):\n",
    "    for _ in range(frame_size-(len(text)%frame_size)):\n",
    "        text += ' '\n",
    "    return text\n",
    "\n",
    "def binstr(num):\n",
    "    if type(num) is list:\n",
    "        return [\"{0:b}\".format(n) for n in num]\n",
    "    else:\n",
    "        return \"{0:b}\".format(num)\n"
   ]
  },
  {
   "cell_type": "markdown",
   "metadata": {},
   "source": [
    "## CRC algorithm \n"
   ]
  },
  {
   "cell_type": "code",
   "execution_count": 3,
   "metadata": {
    "collapsed": true
   },
   "outputs": [],
   "source": [
    "def crc(block, poly=11):\n",
    "    '''\n",
    "    Block consists of list of bytes(frame) or a single byte\n",
    "    '''\n",
    "    pl = len(binstr(poly))\n",
    "    stream = 0\n",
    "    if type(block) is list:\n",
    "        for b in block:\n",
    "            stream = (stream<<8) | b\n",
    "    else:\n",
    "        stream = block\n",
    "    \n",
    "    stream = stream<<(pl-1)\n",
    "    while len(binstr(stream))>(pl-1):\n",
    "        divisor = poly << len(binstr(stream))-(pl)\n",
    "        stream = stream ^ divisor\n",
    "    return stream"
   ]
  },
  {
   "cell_type": "markdown",
   "metadata": {},
   "source": [
    "## Execution\n",
    "\n",
    "Read from a input.txt file run it"
   ]
  },
  {
   "cell_type": "code",
   "execution_count": 8,
   "metadata": {},
   "outputs": [
    {
     "name": "stdout",
     "output_type": "stream",
     "text": [
      "Frame 000  Str 'Hel' \t Data ['01001000', '01100101', '01101100']  CRC 100\n",
      "Frame 003  Str 'lo ' \t Data ['01101100', '01101111', '00100000']  CRC 110\n",
      "Frame 006  Str 'Wor' \t Data ['01010111', '01101111', '01110010']  CRC 010\n",
      "Frame 009  Str 'd!\\n' \t Data ['01100100', '00100001', '00001010']  CRC 101\n",
      "Frame 012  Str 'Thi' \t Data ['01010100', '01101000', '01101001']  CRC 101\n",
      "Frame 015  Str 's i' \t Data ['01110011', '00100000', '01101001']  CRC 111\n",
      "Frame 018  Str 's a' \t Data ['01110011', '00100000', '01100001']  CRC 010\n",
      "Frame 021  Str ' pa' \t Data ['00100000', '01110000', '01100001']  CRC 011\n",
      "Frame 024  Str 'ssa' \t Data ['01110011', '01110011', '01100001']  CRC 010\n",
      "Frame 027  Str 'ge ' \t Data ['01100111', '01100101', '00100000']  CRC 000\n",
      "Frame 030  Str 'of ' \t Data ['01101111', '01100110', '00100000']  CRC 011\n",
      "Frame 033  Str 'tex' \t Data ['01110100', '01100101', '01111000']  CRC 110\n",
      "Frame 036  Str 't w' \t Data ['01110100', '00100000', '01110111']  CRC 001\n",
      "Frame 039  Str 'hic' \t Data ['01101000', '01101001', '01100011']  CRC 100\n",
      "Frame 042  Str 'h I' \t Data ['01101000', '00100000', '01001001']  CRC 001\n",
      "Frame 045  Str ' wi' \t Data ['00100000', '01110111', '01101001']  CRC 010\n",
      "Frame 048  Str 'll ' \t Data ['01101100', '01101100', '00100000']  CRC 111\n",
      "Frame 051  Str 'use' \t Data ['01110101', '01110011', '01100101']  CRC 001\n",
      "Frame 054  Str ' fo' \t Data ['00100000', '01100110', '01101111']  CRC 111\n",
      "Frame 057  Str 'r N' \t Data ['01110010', '00100000', '01001110']  CRC 000\n",
      "Frame 060  Str 'etw' \t Data ['01100101', '01110100', '01110111']  CRC 110\n",
      "Frame 063  Str 'ork' \t Data ['01101111', '01110010', '01101011']  CRC 000\n",
      "Frame 066  Str 's L' \t Data ['01110011', '00100000', '01001100']  CRC 001\n",
      "Frame 069  Str 'ab.' \t Data ['01100001', '01100010', '00101110']  CRC 100\n",
      "Frame 072  Str '\\n  ' \t Data ['00001010', '00100000', '00100000']  CRC 001\n"
     ]
    }
   ],
   "source": [
    "frame_size = 3\n",
    "with open('input.txt', 'r') as f:\n",
    "    text = f.read()\n",
    "    text = padding(text, frame_size)\n",
    "\n",
    "bytetext = byte_array(text)\n",
    "\n",
    "for i in range(0, len(bytetext)-1, frame_size):\n",
    "    # Building the Frame\n",
    "    frame = [bytetext[j] for j in range(i, i+frame_size)]\n",
    "    code = \"{0:03b}\".format(crc(frame))\n",
    "    print('Frame {}  Str {} \\t Data {}  CRC {}'.format('{0:03}'.format(i), repr(text[i:i+frame_size]), [\"{0:08b}\".format(x) for x in (frame)], code))"
   ]
  },
  {
   "cell_type": "code",
   "execution_count": null,
   "metadata": {
    "collapsed": true
   },
   "outputs": [],
   "source": []
  },
  {
   "cell_type": "code",
   "execution_count": null,
   "metadata": {
    "collapsed": true
   },
   "outputs": [],
   "source": []
  }
 ],
 "metadata": {
  "kernelspec": {
   "display_name": "Python 3",
   "language": "python",
   "name": "python3"
  },
  "language_info": {
   "codemirror_mode": {
    "name": "ipython",
    "version": 3
   },
   "file_extension": ".py",
   "mimetype": "text/x-python",
   "name": "python",
   "nbconvert_exporter": "python",
   "pygments_lexer": "ipython3",
   "version": "3.5.2"
  }
 },
 "nbformat": 4,
 "nbformat_minor": 2
}
